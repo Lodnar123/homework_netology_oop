{
  "nbformat": 4,
  "nbformat_minor": 0,
  "metadata": {
    "colab": {
      "provenance": [],
      "authorship_tag": "ABX9TyMI6plLJzumoWvhJ17dUomE",
      "include_colab_link": true
    },
    "kernelspec": {
      "name": "python3",
      "display_name": "Python 3"
    },
    "language_info": {
      "name": "python"
    }
  },
  "cells": [
    {
      "cell_type": "markdown",
      "metadata": {
        "id": "view-in-github",
        "colab_type": "text"
      },
      "source": [
        "<a href=\"https://colab.research.google.com/github/Lodnar123/homework_netology_oop/blob/main/%D0%94%D0%B7_%D0%9D%D0%B5%D1%82%D0%BE%D0%BB%D0%BE%D0%B3%D0%B8%D1%8F_%D0%9E%D0%9E%D0%9F.ipynb\" target=\"_parent\"><img src=\"https://colab.research.google.com/assets/colab-badge.svg\" alt=\"Open In Colab\"/></a>"
      ]
    },
    {
      "cell_type": "markdown",
      "source": [],
      "metadata": {
        "id": "xoBCTkeu9Wqp"
      }
    },
    {
      "cell_type": "code",
      "source": [
        "class Student:\n",
        "    def __init__(self, name, surname, gender):\n",
        "        self.name = name\n",
        "        self.surname = surname\n",
        "        self.gender = gender\n",
        "        self.finished_courses = []\n",
        "        self.courses_in_progress = []\n",
        "        self.grades = {}\n",
        "\n",
        "    def add_courses(self, course_name):\n",
        "        self.finished_courses.append(course_name)\n",
        "\n",
        "    def rate_lecturer(self, lecturer, student, course, grade):\n",
        "        if isinstance(lecturer, Lecturer) and isinstance(student, Student) and course in lecturer.courses_attached and course in student.courses_in_progress:\n",
        "            if course in lecturer.grades:\n",
        "                lecturer.grades[course] += [grade]\n",
        "            else:\n",
        "                lecturer.grades[course] = [grade]\n",
        "        else:\n",
        "            return 'Ошибка...'\n",
        "\n",
        "    def average_grade(self):\n",
        "        total_grades = 0\n",
        "        num_grades = 0\n",
        "        for course_grades in self.grades.values():\n",
        "            total_grades += sum(course_grades)\n",
        "            num_grades += len(course_grades)\n",
        "        if num_grades > 0:\n",
        "            return round(total_grades / num_grades, 1)\n",
        "        else:\n",
        "            return 0.0\n",
        "\n",
        "\n",
        "    def __str__(self):\n",
        "        courses_in_progress = ', '.join(self.courses_in_progress)\n",
        "        finished_courses = ', '.join(self.finished_courses)\n",
        "\n",
        "        return f\"Имя: {self.name}\\\n",
        "                \\nФамилия: {self.surname}\\\n",
        "                \\nСредняя оценка за домашние задания: {self.average_grade()}\\\n",
        "                \\nКурсы в процессе изучения: {courses_in_progress}\\\n",
        "                \\nЗавершенные курсы: {finished_courses}\"\n",
        "\n",
        "\n",
        "    def __lt__(self, other):\n",
        "        return self.average_grade() < other.average_grade()\n",
        "\n",
        "    def __gt__(self, other):\n",
        "        return self.average_grade() > other.average_grade()\n",
        "\n",
        "    def __eq__(self, other):\n",
        "        return self.average_grade() == other.average_grade()\n",
        "\n",
        "    def __ne__(self, other):\n",
        "        return self.average_grade() != other.average_grade()\n",
        "\n",
        "    def __le__(self, other):\n",
        "        return self.average_grade() <= other.average_grade()\n",
        "\n",
        "    def __ge__(self, other):\n",
        "        return self.average_grade() >= other.average_grade()\n",
        "\n",
        "\n",
        "class Mentor:\n",
        "    def __init__(self, name, surname):\n",
        "        self.name = name\n",
        "        self.surname = surname\n",
        "        self.courses_attached = []\n",
        "\n",
        "\n",
        "class Lecturer(Mentor):\n",
        "    def __init__(self, name, surname, grades=[]):\n",
        "        super().__init__(name, surname)\n",
        "        self.grades = {}\n",
        "\n",
        "    def average_grade(self):\n",
        "        total_grades = 0\n",
        "        num_grades = 0\n",
        "        for course_grades in self.grades.values():\n",
        "            total_grades += sum(course_grades)\n",
        "            num_grades += len(course_grades)\n",
        "        if num_grades > 0:\n",
        "            return round(total_grades / num_grades, 1)\n",
        "        else:\n",
        "            return 0.0\n",
        "\n",
        "    def __str__(self):\n",
        "        return f\"Имя: {self.name}\\nФамилия: {self.surname}\\nСредняя оценка за лекции: {self.average_grade()}\"\n",
        "\n",
        "    def __lt__(self, other):\n",
        "        return self.average_grade() < other.average_grade()\n",
        "\n",
        "    def __gt__(self, other):\n",
        "        return self.average_grade() > other.average_grade()\n",
        "\n",
        "    def __eq__(self, other):\n",
        "        return self.average_grade() == other.average_grade()\n",
        "\n",
        "    def __ne__(self, other):\n",
        "        return self.average_grade() != other.average_grade()\n",
        "\n",
        "    def __le__(self, other):\n",
        "        return self.average_grade() <= other.average_grade()\n",
        "\n",
        "    def __ge__(self, other):\n",
        "        return self.average_grade() >= other.average_grade()\n",
        "\n",
        "\n",
        "class Reviewer(Mentor):\n",
        "    def rate_hw(self, student, course, grade):\n",
        "        if isinstance(student, Student) and course in self.courses_attached and course in student.courses_in_progress:\n",
        "            if course in student.grades:\n",
        "                student.grades[course] += [grade]\n",
        "            else:\n",
        "                student.grades[course] = [grade]\n",
        "        else:\n",
        "            return 'Ошибка...'\n",
        "\n",
        "    def __str__(self):\n",
        "        return f\"Имя: {self.name}\\nФамилия: {self.surname}\"\n"
      ],
      "metadata": {
        "id": "Iuw1BOi89WGM"
      },
      "execution_count": 182,
      "outputs": []
    },
    {
      "cell_type": "code",
      "source": [
        "def average_grade_for_course(students, course_name):\n",
        "    total_grades = 0\n",
        "    num_grades = 0\n",
        "    for student in students:\n",
        "        if course_name in student.grades:\n",
        "            total_grades += sum(student.grades[course_name])\n",
        "            num_grades += len(student.grades[course_name])\n",
        "    if num_grades > 0:\n",
        "        return round(total_grades / num_grades, 1)\n",
        "    else:\n",
        "        return 0.0"
      ],
      "metadata": {
        "id": "LkI4HypPB29b"
      },
      "execution_count": 183,
      "outputs": []
    },
    {
      "cell_type": "code",
      "source": [
        "def average_grade_for_lecturers(lecturers, course_name):\n",
        "    total_grades = 0\n",
        "    num_grades = 0\n",
        "    for lecturer in lecturers:\n",
        "        if course_name in lecturer.grades:\n",
        "            total_grades += sum(lecturer.grades[course_name])\n",
        "            num_grades += len(lecturer.grades[course_name])\n",
        "    if num_grades > 0:\n",
        "        return round(total_grades / num_grades, 1)\n",
        "    else:\n",
        "        return 0.0"
      ],
      "metadata": {
        "id": "cVhtGGlbEHmE"
      },
      "execution_count": 184,
      "outputs": []
    },
    {
      "cell_type": "code",
      "source": [
        "# Students\n",
        "best_student = Student('Ruoy', 'Eman', 'men')\n",
        "best_student.courses_in_progress += ['Python']\n",
        "best_student.finished_courses += ['Введение в специальность']\n",
        "\n",
        "\n",
        "worst_student = Student('Jack', 'Olman', 'men')\n",
        "worst_student.courses_in_progress += ['Python']\n",
        "worst_student.finished_courses += ['1c']\n",
        "\n",
        "# Lecturers\n",
        "cool_lecturer = Lecturer('Some', 'Buddy')\n",
        "cool_lecturer.courses_attached += ['Python']\n",
        "\n",
        "strict_lecturer = Lecturer('Sonny', 'Valensia')\n",
        "strict_lecturer.courses_attached += ['Python']\n",
        "\n",
        "# Reviewers\n",
        "nice_reviewer = Reviewer('Bill', 'Winston')\n",
        "nice_reviewer.courses_attached += ['Python']\n",
        "\n",
        "cool_reviewer = Reviewer('Bob', 'Smit')\n",
        "cool_reviewer.courses_attached += ['Python']\n",
        "\n",
        "# Experiments\n",
        "best_student.rate_lecturer(cool_lecturer, best_student, 'Python', 10)\n",
        "best_student.rate_lecturer(cool_lecturer, best_student, 'Python', 9)\n",
        "best_student.rate_lecturer(strict_lecturer, best_student, 'Python', 8)\n",
        "\n",
        "worst_student.rate_lecturer(strict_lecturer, worst_student, 'Python', 1)\n",
        "\n",
        "cool_reviewer.rate_hw(best_student, 'Python', 5)\n",
        "cool_reviewer.rate_hw(best_student, 'Python', 10)\n",
        "\n",
        "nice_reviewer.rate_hw(worst_student, 'Python', 5)"
      ],
      "metadata": {
        "id": "gFPIH-wHCV0Y"
      },
      "execution_count": 188,
      "outputs": []
    },
    {
      "cell_type": "code",
      "source": [
        "students = [best_student, worst_student]\n",
        "course_name = \"Python\"\n",
        "average_grade_students = average_grade_for_course(students, course_name)\n",
        "print(f\"Средняя оценка студентов за домашние задания по курсу {course_name}: {average_grade_students}\")"
      ],
      "metadata": {
        "colab": {
          "base_uri": "https://localhost:8080/"
        },
        "id": "GIsDq73jEXyY",
        "outputId": "32a3b958-c560-4e8b-c8e9-abddd5d57042"
      },
      "execution_count": 189,
      "outputs": [
        {
          "output_type": "stream",
          "name": "stdout",
          "text": [
            "Средняя оценка студентов за домашние задания по курсу Python: 6.7\n"
          ]
        }
      ]
    },
    {
      "cell_type": "code",
      "source": [
        "lecturers = [cool_lecturer, strict_lecturer]\n",
        "course_name = \"Python\"\n",
        "average_grade_lecturers = average_grade_for_lecturers(lecturers, course_name)\n",
        "print(f\"Средняя оценка лекторов за лекции по курсу {course_name}: {average_grade_lecturers}\")"
      ],
      "metadata": {
        "colab": {
          "base_uri": "https://localhost:8080/"
        },
        "id": "4oMXwI3uGCxf",
        "outputId": "dbbc4cc1-a2d6-4b14-a51b-adea85b91005"
      },
      "execution_count": 190,
      "outputs": [
        {
          "output_type": "stream",
          "name": "stdout",
          "text": [
            "Средняя оценка лекторов за лекции по курсу Python: 7.0\n"
          ]
        }
      ]
    }
  ]
}